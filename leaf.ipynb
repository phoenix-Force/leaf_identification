{
 "cells": [
  {
   "cell_type": "code",
   "execution_count": 12,
   "metadata": {},
   "outputs": [
    {
     "name": "stdout",
     "output_type": "stream",
     "text": [
      "['3']\n",
      "90.0\n"
     ]
    },
    {
     "name": "stderr",
     "output_type": "stream",
     "text": [
      "C:\\Users\\parad\\Anaconda3\\lib\\site-packages\\sklearn\\utils\\validation.py:578: DataConversionWarning: A column-vector y was passed when a 1d array was expected. Please change the shape of y to (n_samples, ), for example using ravel().\n",
      "  y = column_or_1d(y, warn=True)\n"
     ]
    }
   ],
   "source": [
    "from numpy import genfromtxt\n",
    "from sklearn import linear_model\n",
    "\n",
    "file = genfromtxt(\"leaf1.csv\",delimiter=\",\",dtype=\"str\")\n",
    "\n",
    "traingset=file[:30]\n",
    "testingset=file[30:]\n",
    "\n",
    "trainx=traingset[:,[1,2,3,4,5,6,7,8,9,10,11,12,13]]\n",
    "trainx=trainx.astype(float)\n",
    "trainy=traingset[:,[0]]\n",
    "\n",
    "testx=testingset[:,[1,2,3,4,5,6,7,8,9,10,11,12,13]]\n",
    "testx=testx.astype(float)\n",
    "\n",
    "\n",
    "lr=linear_model.LogisticRegression()\n",
    "lr.fit(trainx,trainy)\n",
    "print(lr.predict([trainx[29]]))\n",
    "print(lr.score(trainx,trainy)*100)\n"
   ]
  },
  {
   "cell_type": "code",
   "execution_count": null,
   "metadata": {},
   "outputs": [],
   "source": []
  }
 ],
 "metadata": {
  "kernelspec": {
   "display_name": "Python 3",
   "language": "python",
   "name": "python3"
  },
  "language_info": {
   "codemirror_mode": {
    "name": "ipython",
    "version": 3
   },
   "file_extension": ".py",
   "mimetype": "text/x-python",
   "name": "python",
   "nbconvert_exporter": "python",
   "pygments_lexer": "ipython3",
   "version": "3.6.5"
  }
 },
 "nbformat": 4,
 "nbformat_minor": 2
}
